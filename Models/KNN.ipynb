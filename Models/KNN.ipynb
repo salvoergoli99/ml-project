{
  "cells": [
    {
      "cell_type": "markdown",
      "metadata": {},
      "source": [
        "# Import Libraries and files"
      ]
    },
    {
      "cell_type": "code",
      "execution_count": 1,
      "metadata": {
        "colab": {
          "base_uri": "https://localhost:8080/"
        },
        "id": "Kqujl1pPjMiG",
        "outputId": "07141d57-e054-4187-94ea-9b8f7f1b9a26"
      },
      "outputs": [],
      "source": [
        "from time import time\n",
        "import warnings\n",
        "warnings.filterwarnings('ignore')"
      ]
    },
    {
      "cell_type": "code",
      "execution_count": 2,
      "metadata": {},
      "outputs": [],
      "source": [
        "import os \n",
        "import sys\n",
        "\n",
        "dir_path = os.getcwd().split(os.path.sep)\n",
        "root_index = dir_path.index('Machine_Learning_project')\n",
        "root_path = os.path.sep.join(dir_path[:root_index + 1])\n",
        "sys.path.append(root_path + '/code/')\n",
        "sys.path.append(root_path + '/code/data_loaders/')\n",
        "sys.path.append(root_path + '/code/utils_sklearn')\n",
        "sys.path.append(root_path + '/code/metric/')\n"
      ]
    },
    {
      "cell_type": "code",
      "execution_count": 3,
      "metadata": {},
      "outputs": [],
      "source": [
        "import numpy as np\n",
        "from data import *\n",
        "from sklearn.neighbors import KNeighborsRegressor\n",
        "from sklearn.preprocessing import OneHotEncoder, PolynomialFeatures\n",
        "from sklearn.metrics import mean_squared_error, make_scorer\n",
        "from sklearn_utils import *\n",
        "from data_cup import *\n",
        "from Trainer_Cup import *\n",
        "from mee import *\n",
        "from sklearn.model_selection import train_test_split"
      ]
    },
    {
      "cell_type": "markdown",
      "metadata": {
        "id": "GtNVREMm8zYm"
      },
      "source": [
        "# KNN Regressor and KNN Classifier"
      ]
    },
    {
      "cell_type": "markdown",
      "metadata": {
        "id": "TuVmxsib7UT5"
      },
      "source": [
        "In this notebook, we have used the ***KNN algorithm*** for both classification (on the Monk's datasets) and regression (on the Cup dataset). The KNN algorithm is a non-parametric method used for classification and regression tasks. It works by finding the k nearest neighbors of a given data point and using their class labels (for classification) or target values (for regression) to make a prediction.\n",
        "\n",
        "For the Monk's datasets (Monk 1, Monk 2, and Monk 3), the code is using the ***KNN classifier***. The KNN classifier predicts the class label of a new data point by finding the k nearest neighbors in the training data and assigning the majority class label among those neighbors to the new data point.\n",
        "\n",
        "The code performs a grid search over different hyperparameters of the KNN classifier, such as the number of neighbors (n_neighbors), the weight function (weights), the distance metric (metric), and the Minkowski distance parameter (p). This grid search helps find the best combination of hyperparameters that maximize the performance of the KNN classifier on the training data.\n",
        "\n",
        "For the Cup dataset, the code is using the ***KNN regressor***. The KNN regressor predicts the target value of a new data point by finding the k nearest neighbors in the training data and taking the average of their target values.\n",
        "\n",
        "The code applies polynomial features of degree 2 to the Cup dataset using the PolynomialFeatures class from scikit-learn. This step helps capture non-linear relationships in the data, which can improve the performance of the KNN regressor."
      ]
    },
    {
      "cell_type": "markdown",
      "metadata": {
        "id": "V1ocq3taj08i"
      },
      "source": [
        " # MONK 1\n"
      ]
    },
    {
      "cell_type": "code",
      "execution_count": 19,
      "metadata": {
        "id": "sfRRrHbTj2Z7"
      },
      "outputs": [],
      "source": [
        "m1_train = MonksDataset('monk1_train')\n",
        "m1_test= MonksDataset('monk1_test')"
      ]
    },
    {
      "cell_type": "code",
      "execution_count": 20,
      "metadata": {
        "id": "xkbq_49QKDSA"
      },
      "outputs": [],
      "source": [
        "X_dev, y_dev, X_test, y_test = get_monks_data(m1_train, m1_test)"
      ]
    },
    {
      "cell_type": "code",
      "execution_count": 21,
      "metadata": {
        "id": "HeeKLehCk3_w"
      },
      "outputs": [],
      "source": [
        "X_train_encoded_m1 = pd.get_dummies(data = X_dev, columns = ['a1', 'a2', 'a3', 'a4', 'a5', 'a6'], dtype = int)\n",
        "X_test_encoded_m1 = pd.get_dummies(data = X_test, columns = ['a1', 'a2', 'a3', 'a4', 'a5', 'a6'], dtype = int)"
      ]
    },
    {
      "cell_type": "code",
      "execution_count": 22,
      "metadata": {
        "id": "L5c7s8IZKxxH"
      },
      "outputs": [],
      "source": [
        "encoder = OneHotEncoder(sparse_output=False)"
      ]
    },
    {
      "cell_type": "code",
      "execution_count": 23,
      "metadata": {
        "id": "z6qWtOo-klwT"
      },
      "outputs": [],
      "source": [
        "X_train_encoded_m1 = encoder.fit_transform(X_dev)\n",
        "\n",
        "X_test_encoded_m1 = encoder.transform(X_test)"
      ]
    },
    {
      "cell_type": "code",
      "execution_count": 24,
      "metadata": {
        "id": "h7W2Ct-Bv-nd"
      },
      "outputs": [],
      "source": [
        "sqrt_n = int(np.sqrt(len(X_train_encoded_m1)))"
      ]
    },
    {
      "cell_type": "code",
      "execution_count": 25,
      "metadata": {
        "id": "_bdVQtNEGxV7"
      },
      "outputs": [],
      "source": [
        "knn_hyperparam = {\n",
        "    \"n_neighbors\": np.arange(2, int(len(X_train_encoded_m1)/2)),\n",
        "    \"weights\": [\"uniform\", \"distance\"],\n",
        "    \"metric\": [\"minkowski\", \"cosine\"],\n",
        "    \"p\": [1, 2, 3, 5, 7]\n",
        "}"
      ]
    },
    {
      "cell_type": "code",
      "execution_count": null,
      "metadata": {
        "id": "kGm_RUPU9zPn"
      },
      "outputs": [],
      "source": [
        "knn_grid_search = CustomGridSearch(estimator = 'knn', hyperparameters=knn_hyperparam, cv_splits = 5)\n",
        "knn_grid_search.fit(X_train_encoded_m1, y_dev.values.ravel())\n",
        "print()\n",
        "\n",
        "accuracy_train, mse_train = knn_grid_search.evaluate(X_train_encoded_m1, y_dev)\n",
        "print()\n",
        "print(\"Accuracy Train:\", accuracy_train)\n",
        "print(\"MSE Train:\", mse_train)\n",
        "\n",
        "accuracy_test, mse_test = knn_grid_search.evaluate(X_test_encoded_m1, y_test)\n",
        "print()\n",
        "print(\"Accuracy Test:\", accuracy_test)\n",
        "print(\"MSE Test:\", mse_test)"
      ]
    },
    {
      "cell_type": "markdown",
      "metadata": {
        "id": "27k0mS3_-CIG"
      },
      "source": [
        "# MONK 2"
      ]
    },
    {
      "cell_type": "code",
      "execution_count": 19,
      "metadata": {
        "id": "SssZBn1Y-DGo"
      },
      "outputs": [],
      "source": [
        "m2_train = MonksDataset('monk2_train')\n",
        "m2_test= MonksDataset('monk2_test')\n",
        "X_dev, y_dev, X_test, y_test = get_monks_data(m2_train, m2_test)"
      ]
    },
    {
      "cell_type": "code",
      "execution_count": 20,
      "metadata": {
        "id": "_uqpDnk4OCSI"
      },
      "outputs": [],
      "source": [
        "X_train_encoded_m2 = pd.get_dummies(data = X_dev, columns = ['a1', 'a2', 'a3', 'a4', 'a5', 'a6'], dtype = int)\n",
        "X_test_encoded_m2 = pd.get_dummies(data = X_test, columns = ['a1', 'a2', 'a3', 'a4', 'a5', 'a6'], dtype = int)"
      ]
    },
    {
      "cell_type": "code",
      "execution_count": 21,
      "metadata": {
        "id": "P9VeQ8jijZzo"
      },
      "outputs": [],
      "source": [
        "X_train_encoded_m2 = encoder.fit_transform(X_dev)\n",
        "X_test_encoded_m2 = encoder.transform(X_test)"
      ]
    },
    {
      "cell_type": "code",
      "execution_count": 22,
      "metadata": {
        "id": "G7fhdMGyqh5i"
      },
      "outputs": [],
      "source": [
        "sqrt_n = int(np.sqrt(len(X_train_encoded_m2)))"
      ]
    },
    {
      "cell_type": "code",
      "execution_count": 23,
      "metadata": {
        "id": "tFn025gBxQS8"
      },
      "outputs": [],
      "source": [
        "knn_hyperparam = {\n",
        "    \"n_neighbors\": np.arange(2, int(len(X_train_encoded_m2)/2)),\n",
        "    \"weights\": [\"uniform\", \"distance\"],\n",
        "    \"metric\": [\"minkowski\", \"cosine\"],\n",
        "    \"p\": [1, 2, 3, 5, 7]\n",
        "}"
      ]
    },
    {
      "cell_type": "code",
      "execution_count": null,
      "metadata": {
        "id": "XAz2fyYB-O8_"
      },
      "outputs": [],
      "source": [
        "knn_grid_search = CustomGridSearch(estimator = 'knn', hyperparameters=knn_hyperparam)\n",
        "knn_grid_search.fit(X_train_encoded_m2, y_dev.values.ravel())\n",
        "\n",
        "accuracy_train, mse_train = knn_grid_search.evaluate(X_train_encoded_m2, y_dev)\n",
        "print()\n",
        "print(\"Accuracy Train:\", accuracy_train)\n",
        "print(\"MSE Train:\", mse_train)\n",
        "\n",
        "accuracy_test, mse_test = knn_grid_search.evaluate(X_test_encoded_m2, y_test)\n",
        "print()\n",
        "print(\"Accuracy Test:\", accuracy_test)\n",
        "print(\"MSE Test:\", mse_test)"
      ]
    },
    {
      "cell_type": "markdown",
      "metadata": {
        "id": "XBSghfcV-hDq"
      },
      "source": [
        "# MONK 3"
      ]
    },
    {
      "cell_type": "code",
      "execution_count": 25,
      "metadata": {
        "id": "YBl0x5cw-iDi"
      },
      "outputs": [],
      "source": [
        "m3_train = MonksDataset('monk3_train')\n",
        "m3_test= MonksDataset('monk3_test')\n",
        "X_dev, y_dev, X_test, y_test = get_monks_data(m3_train, m3_test)"
      ]
    },
    {
      "cell_type": "code",
      "execution_count": 26,
      "metadata": {
        "id": "vvHKc0gaOT4n"
      },
      "outputs": [],
      "source": [
        "X_train_encoded_m3 = pd.get_dummies(data = X_dev, columns = ['a1', 'a2', 'a3', 'a4', 'a5', 'a6'], dtype = int)\n",
        "X_test_encoded_m3 = pd.get_dummies(data = X_test, columns = ['a1', 'a2', 'a3', 'a4', 'a5', 'a6'], dtype = int)"
      ]
    },
    {
      "cell_type": "code",
      "execution_count": 27,
      "metadata": {
        "id": "BH9lMkmukKD0"
      },
      "outputs": [],
      "source": [
        "X_train_encoded_m3 = encoder.fit_transform(X_dev)\n",
        "\n",
        "X_test_encoded_m3 = encoder.transform(X_test)"
      ]
    },
    {
      "cell_type": "code",
      "execution_count": null,
      "metadata": {
        "id": "urtue2ZO-3bO"
      },
      "outputs": [],
      "source": [
        "knn_grid_search = CustomGridSearch(estimator = 'knn', hyperparameters=knn_hyperparam)\n",
        "knn_grid_search.fit(X_train_encoded_m3, y_dev.values.ravel())\n",
        "\n",
        "accuracy_train, mse_train = knn_grid_search.evaluate(X_train_encoded_m3, y_dev)\n",
        "print()\n",
        "print(\"Accuracy Train:\", accuracy_train)\n",
        "print(\"MSE Train:\", mse_train)\n",
        "\n",
        "accuracy_test, mse_test = knn_grid_search.evaluate(X_test_encoded_m3, y_test)\n",
        "print()\n",
        "print(\"Accuracy Test:\", accuracy_test)\n",
        "print(\"MSE Test:\", mse_test)"
      ]
    },
    {
      "cell_type": "markdown",
      "metadata": {
        "id": "ANpQqsaDaG-f"
      },
      "source": [
        "# CUP"
      ]
    },
    {
      "cell_type": "code",
      "execution_count": 4,
      "metadata": {
        "id": "K1-vBCbzaHuA"
      },
      "outputs": [],
      "source": [
        "cup = CupDataset('Cup_tr')\n",
        "df = cup.data\n"
      ]
    },
    {
      "cell_type": "code",
      "execution_count": 5,
      "metadata": {
        "id": "XvvAZ0dKc5Hy"
      },
      "outputs": [],
      "source": [
        "# Split data into train/validation and test sets\n",
        "cup.split_data(test_size=0.1, random_state=0)\n",
        "\n",
        "# X_dev and y_dev represent the features and labels of the development set (train/validation combined), X_final_test and y_final_test represent the features and labels of the final test set\n",
        "X_dev,  X_final_test, y_dev, y_final_test = cup.get_splits()\n",
        "\n",
        "# Further split the development set (X_dev, y_dev) into training and internal test sets\n",
        "X_train, X_internal_test, y_train, y_internal_test = train_test_split(X_dev, y_dev, test_size=0.111, random_state=0)"
      ]
    },
    {
      "cell_type": "code",
      "execution_count": 6,
      "metadata": {
        "id": "amk_P-JjqVy9"
      },
      "outputs": [],
      "source": [
        "poly = PolynomialFeatures(degree=2)\n",
        "X_train_poly = np.arctanh(poly.fit_transform(X_train)[:,1:])\n",
        "X_internal_test_poly = np.arctanh(poly.transform(X_internal_test)[:,1:])\n",
        "X_final_test_poly = np.arctanh(poly.transform(X_final_test)[:,1:])\n",
        "X_dev_poly = np.arctanh(poly.transform(X_dev)[:,1:])"
      ]
    },
    {
      "cell_type": "code",
      "execution_count": 7,
      "metadata": {
        "id": "r4HscXOMiKei"
      },
      "outputs": [],
      "source": [
        "knn_hyperparam_cup = {\n",
        "    \"n_neighbors\": np.arange(2, 40),\n",
        "    \"weights\": [\"uniform\", \"distance\"],\n",
        "    \"p\": [1, 2]\n",
        "}"
      ]
    },
    {
      "cell_type": "code",
      "execution_count": null,
      "metadata": {
        "colab": {
          "base_uri": "https://localhost:8080/"
        },
        "id": "0PkQJbS9jChh",
        "outputId": "1fbbe841-3781-4a5a-a0da-8c2489c5b227"
      },
      "outputs": [],
      "source": [
        "knn_grid_search = CustomGridSearch(estimator = 'knn_reg', cv_strategy = 'kfold', hyperparameters=knn_hyperparam_cup)\n",
        "knn_grid_search.fit(X_train_poly, y_train)\n"
      ]
    },
    {
      "cell_type": "code",
      "execution_count": 9,
      "metadata": {
        "id": "Mu5ftIS0rCUD"
      },
      "outputs": [],
      "source": [
        "best_params = {'n_neighbors': 4, 'p': 2, 'weights': 'distance'}"
      ]
    },
    {
      "cell_type": "code",
      "execution_count": 10,
      "metadata": {
        "id": "9GEzfqQFXsC0"
      },
      "outputs": [],
      "source": [
        "best_knn = KNeighborsRegressor(**best_params)"
      ]
    },
    {
      "cell_type": "code",
      "execution_count": null,
      "metadata": {
        "colab": {
          "base_uri": "https://localhost:8080/",
          "height": 74
        },
        "id": "993heV4xX8qb",
        "outputId": "dab77dad-2bc7-4220-a5cf-c404ebeba11c"
      },
      "outputs": [],
      "source": [
        "best_knn.fit(X_train_poly, y_train)"
      ]
    },
    {
      "cell_type": "code",
      "execution_count": null,
      "metadata": {
        "colab": {
          "base_uri": "https://localhost:8080/"
        },
        "id": "toG4zv9qjRwV",
        "outputId": "becc09da-5331-431c-abad-a4b4ffababd3"
      },
      "outputs": [],
      "source": [
        "mse_train = mean_squared_error(y_train, best_knn.predict(X_train_poly))\n",
        "mee_train = MEE(y_train, best_knn.predict(X_train_poly))\n",
        "\n",
        "print(mse_train, mee_train)"
      ]
    },
    {
      "cell_type": "code",
      "execution_count": null,
      "metadata": {
        "colab": {
          "base_uri": "https://localhost:8080/"
        },
        "id": "8EMSMW1qqmux",
        "outputId": "4a9aabea-3cd0-4260-ad23-a26051afc687"
      },
      "outputs": [],
      "source": [
        "mse_internal = mean_squared_error(y_internal_test, best_knn.predict(X_internal_test_poly))\n",
        "mee_internal = MEE(y_internal_test, best_knn.predict(X_internal_test_poly))\n",
        "\n",
        "print(mse_internal, mee_internal)"
      ]
    },
    {
      "cell_type": "markdown",
      "metadata": {
        "id": "gKVuIP44APcv"
      },
      "source": [
        "##### Model trained on validation set and estimate error on final test set\n",
        "\n",
        "\n",
        "\n"
      ]
    },
    {
      "cell_type": "code",
      "execution_count": null,
      "metadata": {
        "colab": {
          "base_uri": "https://localhost:8080/",
          "height": 74
        },
        "id": "YgRGWm62Ab09",
        "outputId": "4c3cf45e-8084-4b18-83af-75cdc386fd92"
      },
      "outputs": [],
      "source": [
        "best_knn.fit(X_dev_poly, y_dev)"
      ]
    },
    {
      "cell_type": "code",
      "execution_count": null,
      "metadata": {
        "colab": {
          "base_uri": "https://localhost:8080/"
        },
        "id": "pknFN1hNAfif",
        "outputId": "6b1fb8b7-25e5-4393-c56d-34eb08d78ce7"
      },
      "outputs": [],
      "source": [
        "mse_dev = mean_squared_error(y_dev, best_knn.predict(X_dev_poly))\n",
        "mee_dev = MEE(y_dev, best_knn.predict(X_dev_poly))\n",
        "\n",
        "print(mse_dev, mee_dev)"
      ]
    },
    {
      "cell_type": "code",
      "execution_count": 17,
      "metadata": {
        "id": "BMAXC32GAn4s"
      },
      "outputs": [],
      "source": [
        "test_pred = best_knn.predict(X_final_test_poly)"
      ]
    },
    {
      "cell_type": "code",
      "execution_count": null,
      "metadata": {
        "colab": {
          "base_uri": "https://localhost:8080/"
        },
        "id": "kFliRhZDA58t",
        "outputId": "71a4401d-ad10-4401-c29e-16c656d61d2e"
      },
      "outputs": [],
      "source": [
        "mse_test = mean_squared_error(y_final_test, test_pred)\n",
        "mee_test = MEE(y_final_test, test_pred)\n",
        "print(f\"Test loss: {mse_test:.4f}, Test MEE: {mee_test:.4f}\")"
      ]
    }
  ],
  "metadata": {
    "colab": {
      "provenance": []
    },
    "kernelspec": {
      "display_name": "Python 3",
      "name": "python3"
    },
    "language_info": {
      "codemirror_mode": {
        "name": "ipython",
        "version": 3
      },
      "file_extension": ".py",
      "mimetype": "text/x-python",
      "name": "python",
      "nbconvert_exporter": "python",
      "pygments_lexer": "ipython3",
      "version": "3.12.3"
    }
  },
  "nbformat": 4,
  "nbformat_minor": 0
}
