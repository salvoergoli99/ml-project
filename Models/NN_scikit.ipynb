{
 "cells": [
  {
   "cell_type": "markdown",
   "metadata": {},
   "source": [
    "# Import files and libraries"
   ]
  },
  {
   "cell_type": "code",
   "execution_count": 1,
   "metadata": {},
   "outputs": [],
   "source": [
    "from time import time\n",
    "import warnings\n",
    "warnings.filterwarnings('ignore')"
   ]
  },
  {
   "cell_type": "code",
   "execution_count": 2,
   "metadata": {},
   "outputs": [],
   "source": [
    "import os \n",
    "import sys\n",
    "\n",
    "\n",
    "dir_path = os.getcwd().split(os.path.sep)\n",
    "root_index = dir_path.index('Machine_Learning_project')\n",
    "root_path = os.path.sep.join(dir_path[:root_index + 1])\n",
    "sys.path.append(root_path + '/code/')\n",
    "sys.path.append(root_path + '/code/data_loaders/')\n",
    "sys.path.append(root_path + '/code/utils_keras')\n",
    "sys.path.append(root_path + '/code/utils_sklearn')\n",
    "\n"
   ]
  },
  {
   "cell_type": "code",
   "execution_count": 10,
   "metadata": {},
   "outputs": [],
   "source": [
    "import numpy as np\n",
    "from sklearn.preprocessing import OneHotEncoder, PolynomialFeatures\n",
    "from sklearn.metrics import accuracy_score, make_scorer, mean_squared_error\n",
    "import matplotlib.pyplot as plt\n",
    "from sklearn.neural_network import MLPRegressor, MLPClassifier\n",
    "from itertools import product\n",
    "import pandas as pd  \n",
    "from sklearn.model_selection import train_test_split\n",
    "import time\n",
    "\n",
    "\n",
    "# Class for the Monks datasets\n",
    "from data import *\n",
    "from trainer import *\n",
    "\n",
    "# Class for the Cup dataset\n",
    "from data_cup import *\n",
    "from Trainer_Cup import *\n",
    "from Trainer_Regressor import *\n",
    "from mee import *\n",
    "from metrics import *\n"
   ]
  },
  {
   "cell_type": "markdown",
   "metadata": {},
   "source": [
    "# Neural network with stochastic gradient descent\n",
    "\n",
    "In this notebook we used the ***MLPClassifier*** from the scikit-learn library to train a multi-layer perceptron (MLP) neural network for classification on the Monk datasets (Monk 1, Monk 2, and Monk 3). The MLPClassifier is a class that implements a multi-layer perceptron (MLP) algorithm that trains using Backpropagation.\n",
    "\n",
    "For each Monk dataset, the code is performing the following steps:\n",
    "\n",
    "*   Loading the training and test data using the ***MonksDataset*** class;\n",
    "*   One-hot encoding the categorical features using *pd.get_dummies()*;\n",
    "*   Defining a dictionary of hyperparameters (mlp_hyperparam) for the MLPClassifier;\n",
    "*   Creating an instance of the ***NeuralNetTrainer*** class, which is likely a custom class for training and evaluating the MLP model using the specified hyperparameters;\n",
    "* Calling the *train()* method of the NeuralNetTrainer to perform a grid search over the specified hyperparameters and find the best model.\n",
    "* Evaluating the accuracy of the best model on the test set using *accuracy_score()*.\n",
    "\n",
    "The hyperparameters are varied across the different Monk datasets to find the best configuration for each problem. For example, for Monk 3, the *nesterovs_momentum* is set to True and the *learning_rate* is set to 'adaptive', which adjusts the learning rate based on the weights and gradients.\n",
    "\n"
   ]
  },
  {
   "cell_type": "markdown",
   "metadata": {},
   "source": [
    "# MONK 1"
   ]
  },
  {
   "cell_type": "code",
   "execution_count": 4,
   "metadata": {},
   "outputs": [],
   "source": [
    "m1_train = MonksDataset('monk1_train')\n",
    "m1_test= MonksDataset('monk1_test')"
   ]
  },
  {
   "cell_type": "code",
   "execution_count": 5,
   "metadata": {},
   "outputs": [],
   "source": [
    "X_dev, y_dev, X_test_m1, y_test_m1 = get_monks_data(m1_train, m1_test)"
   ]
  },
  {
   "cell_type": "code",
   "execution_count": 6,
   "metadata": {},
   "outputs": [],
   "source": [
    "X_monk_dev_ohe_pd_cat = pd.get_dummies(X_dev, columns=['a1', 'a2', 'a3', 'a4', 'a5', 'a6'])\n",
    "X_monk_test_ohe_pd_cat = pd.get_dummies(X_test_m1, columns=['a1', 'a2', 'a3', 'a4', 'a5', 'a6'])"
   ]
  },
  {
   "cell_type": "code",
   "execution_count": 7,
   "metadata": {},
   "outputs": [],
   "source": [
    "mlp = MLPClassifier(verbose = True)"
   ]
  },
  {
   "cell_type": "code",
   "execution_count": 8,
   "metadata": {},
   "outputs": [],
   "source": [
    "mlp_hyperparam = {\n",
    "    'solver': ['sgd'],\n",
    "    'batch_size': [4, 8, 12],\n",
    "    'nesterovs_momentum': [False],\n",
    "    'early_stopping': [False],\n",
    "    'momentum': [0.5, 0.6],\n",
    "    'max_iter': [400],\n",
    "    'learning_rate': ['constant'],\n",
    "    'learning_rate_init': [0.1, 0.2, 0.3],\n",
    "    'activation': ['tanh'],\n",
    "    'hidden_layer_sizes': [(4,)]\n",
    "    }"
   ]
  },
  {
   "cell_type": "code",
   "execution_count": null,
   "metadata": {},
   "outputs": [],
   "source": [
    "trainer = NeuralNetTrainer(\n",
    "    model=MLPClassifier(verbose=True),\n",
    "    param_distributions=mlp_hyperparam,\n",
    "    X_dev=X_monk_dev_ohe_pd_cat,\n",
    "    y_dev=y_dev,\n",
    "    X_test=X_monk_test_ohe_pd_cat,\n",
    "    y_test=y_test_m1,\n",
    "    cv_splits=5,\n",
    "    random_state=42\n",
    ")\n",
    "\n",
    "trainer.train(search_method='grid')"
   ]
  },
  {
   "cell_type": "code",
   "execution_count": null,
   "metadata": {},
   "outputs": [],
   "source": [
    "y_pred_train = trainer.mlp_best.predict(X_monk_dev_ohe_pd_cat)\n",
    "\n",
    "train_accuracy = accuracy_score(y_dev, y_pred_train)\n",
    "print(\"Accuracy on training set:\", train_accuracy)\n",
    "\n",
    "\n",
    "y_pred_test = trainer.mlp_best.predict(X_monk_test_ohe_pd_cat)\n",
    "test_accuracy = accuracy_score(y_test_m1, y_pred_test)\n",
    "print(\"Accuracy on test set:\", test_accuracy)"
   ]
  },
  {
   "cell_type": "markdown",
   "metadata": {},
   "source": [
    "# MONK 2"
   ]
  },
  {
   "cell_type": "code",
   "execution_count": 13,
   "metadata": {},
   "outputs": [],
   "source": [
    "m2_train = MonksDataset('monk2_train')\n",
    "m2_test= MonksDataset('monk2_test')"
   ]
  },
  {
   "cell_type": "code",
   "execution_count": 14,
   "metadata": {},
   "outputs": [],
   "source": [
    "X_dev_m2, y_dev_m2, X_test_m2, y_test_m2 = get_monks_data(m2_train, m2_test)"
   ]
  },
  {
   "cell_type": "code",
   "execution_count": 17,
   "metadata": {},
   "outputs": [],
   "source": [
    "X_monk2_dev_ohe_pd_cat = pd.get_dummies(X_dev_m2, columns=['a1', 'a2', 'a3', 'a4', 'a5', 'a6'])\n",
    "X_monk2_test_ohe_pd_cat = pd.get_dummies(X_test_m2, columns=['a1', 'a2', 'a3', 'a4', 'a5', 'a6'])"
   ]
  },
  {
   "cell_type": "code",
   "execution_count": 15,
   "metadata": {},
   "outputs": [],
   "source": [
    "mlp_hyperparam = {\n",
    "    'solver': ['sgd'],\n",
    "    'batch_size': [4, 8, 12],\n",
    "    'nesterovs_momentum': [False],\n",
    "    'early_stopping': [False],\n",
    "    'momentum': [0.3, 0.4],\n",
    "    'max_iter': [400],\n",
    "    'learning_rate': ['constant'],\n",
    "    'learning_rate_init': [0.1, 0.2, 0.3],\n",
    "    'activation': ['tanh'],\n",
    "    'hidden_layer_sizes': [(3,), (4,)]\n",
    "    }"
   ]
  },
  {
   "cell_type": "code",
   "execution_count": null,
   "metadata": {},
   "outputs": [],
   "source": [
    "trainer = NeuralNetTrainer(\n",
    "    model=MLPClassifier(verbose=True),\n",
    "    param_distributions=mlp_hyperparam,\n",
    "    X_dev=X_monk2_dev_ohe_pd_cat,\n",
    "    y_dev=y_dev_m2,\n",
    "    X_test=X_monk2_test_ohe_pd_cat,\n",
    "    y_test=y_test_m2,\n",
    "    cv_splits=5,\n",
    "    random_state=42\n",
    ")\n",
    "\n",
    "trainer.train(search_method='grid')\n"
   ]
  },
  {
   "cell_type": "code",
   "execution_count": 19,
   "metadata": {},
   "outputs": [
    {
     "data": {
      "image/png": "[encoded data removed]",
      "text/plain": [
       "<Figure size 1200x500 with 2 Axes>"
      ]
     },
     "metadata": {},
     "output_type": "display_data"
    }
   ],
   "source": [
    "trainer.plot_training_curves()"
   ]
  },
  {
   "cell_type": "code",
   "execution_count": null,
   "metadata": {},
   "outputs": [],
   "source": [
    "y_pred_train = trainer.mlp_best.predict(X_monk2_dev_ohe_pd_cat)\n",
    "train_accuracy = accuracy_score(y_dev_m2, y_pred_train)\n",
    "print(\"Accuracy on training set:\", train_accuracy)\n",
    "\n",
    "y_pred_test = trainer.mlp_best.predict(X_monk2_test_ohe_pd_cat)\n",
    "test_accuracy = accuracy_score(y_test_m2, y_pred_test)\n",
    "print(\"Accuracy on test set:\", test_accuracy)"
   ]
  },
  {
   "cell_type": "markdown",
   "metadata": {},
   "source": [
    "# MONK 3"
   ]
  },
  {
   "cell_type": "code",
   "execution_count": 21,
   "metadata": {},
   "outputs": [],
   "source": [
    "m3_train = MonksDataset('monk3_train')\n",
    "m3_test= MonksDataset('monk3_test')"
   ]
  },
  {
   "cell_type": "code",
   "execution_count": 22,
   "metadata": {},
   "outputs": [],
   "source": [
    "X_dev_m3, y_dev_m3, X_test_m3, y_test_m3 = get_monks_data(m3_train, m3_test)"
   ]
  },
  {
   "cell_type": "code",
   "execution_count": 23,
   "metadata": {},
   "outputs": [],
   "source": [
    "X_monk3_dev_ohe_pd_cat = pd.get_dummies(X_dev_m3, columns=['a1', 'a2', 'a3', 'a4', 'a5', 'a6'])\n",
    "X_monk3_test_ohe_pd_cat = pd.get_dummies(X_test_m3, columns=['a1', 'a2', 'a3', 'a4', 'a5', 'a6'])"
   ]
  },
  {
   "cell_type": "code",
   "execution_count": 24,
   "metadata": {},
   "outputs": [],
   "source": [
    "mlp_hyperparam = {\n",
    "    'solver': ['sgd'],\n",
    "    'batch_size': ['auto'],\n",
    "    'nesterovs_momentum': [True],\n",
    "    'early_stopping': [False],\n",
    "    'momentum': [0.5, 0.6],\n",
    "    'max_iter': [400],\n",
    "    'learning_rate': ['adaptive'],\n",
    "    'learning_rate_init': [0.1, 0.2, 0.3],\n",
    "    'activation': ['tanh'],\n",
    "    'hidden_layer_sizes': [(3,), (4,)],\n",
    "    'alpha': [0.5]\n",
    "    }"
   ]
  },
  {
   "cell_type": "code",
   "execution_count": null,
   "metadata": {},
   "outputs": [],
   "source": [
    "trainer = NeuralNetTrainer(\n",
    "    model=MLPClassifier(verbose=True),\n",
    "    param_distributions=mlp_hyperparam,\n",
    "    X_dev=X_monk3_dev_ohe_pd_cat,\n",
    "    y_dev=y_dev_m3,\n",
    "    X_test=X_monk3_test_ohe_pd_cat,\n",
    "    y_test=y_test_m3,\n",
    "    cv_splits=5,\n",
    "    random_state=42\n",
    ")\n",
    "\n",
    "trainer.train(search_method='grid')"
   ]
  },
  {
   "cell_type": "code",
   "execution_count": null,
   "metadata": {},
   "outputs": [],
   "source": [
    "trainer.plot_training_curves()"
   ]
  },
  {
   "cell_type": "code",
   "execution_count": null,
   "metadata": {},
   "outputs": [],
   "source": [
    "y_pred_train = trainer.mlp_best.predict(X_monk3_dev_ohe_pd_cat)\n",
    "train_accuracy = accuracy_score(y_dev_m3, y_pred_train)\n",
    "print(\"Accuracy on training set:\", train_accuracy)\n",
    "\n",
    "y_pred_test = trainer.mlp_best.predict(X_monk3_test_ohe_pd_cat)\n",
    "test_accuracy = accuracy_score(y_test_m3, y_pred_test)\n",
    "print(\"Accuracy on test set:\", test_accuracy)"
   ]
  },
  {
   "cell_type": "markdown",
   "metadata": {},
   "source": [
    "# CUP\n"
   ]
  },
  {
   "cell_type": "code",
   "execution_count": 4,
   "metadata": {},
   "outputs": [],
   "source": [
    "cup = CupDataset('Cup_tr')\n",
    "blind = CupDataset('Cup_ts')\n",
    "\n",
    "blind = blind.data\n",
    "df =cup.data\n"
   ]
  },
  {
   "cell_type": "code",
   "execution_count": 26,
   "metadata": {},
   "outputs": [],
   "source": [
    "cup.split_data(test_size=0.1, random_state=0)\n",
    "\n",
    "# X_dev and y_dev represent the features and labels of the development set (train/validation combined), X_final_test and y_final_test represent the features and labels of the final test set\n",
    "X_dev,  X_final_test, y_dev, y_final_test = cup.get_splits()\n",
    "\n",
    "# Further split the development set (X_dev, y_dev) into training and internal test sets\n",
    "X_train, X_internal_test, y_train, y_internal_test = train_test_split(X_dev, y_dev, test_size=0.111, random_state=0)\n",
    "\n",
    "# Extract the features from the 'blind' dataset \n",
    "X_blind = blind[['a1', 'a2', 'a3', 'a4', 'a5', 'a6', 'a7', 'a8', 'a9', 'a10']]"
   ]
  },
  {
   "cell_type": "code",
   "execution_count": null,
   "metadata": {},
   "outputs": [],
   "source": [
    "cup.split_data(test_size=0.1, random_state=0)\n",
    "\n",
    "x_dev, x_test_final, y_dev, y_test_final = cup.get_splits()\n",
    "x_train, x_test, y_train, y_test = train_test_split(x_dev, y_dev, test_size=0.111, random_state=0)\n",
    "print(len(x_train))\n",
    "\n",
    "x_train=x_train.values\n",
    "x_test=x_test.values\n",
    "Y_TR=y_train.values\n",
    "Y_TS=y_test.values\n",
    "\n",
    "\n",
    "from sklearn.preprocessing import PolynomialFeatures\n",
    "from sklearn import preprocessing\n",
    "#-----------------------------------------\n",
    "#---- DATA PREPROCESSING AND SPLIT TRAINING TEST\n",
    "tin = time.time()\n",
    "poly = PolynomialFeatures(2)\n",
    "X_TR_poly = poly.fit_transform(x_train)\n",
    "X_TS_poly = poly.transform(x_test)\n",
    "\n",
    "\n",
    "X_TR=np.arctanh(X_TR_poly[:,1:])\n",
    "X_TS=np.arctanh(X_TS_poly[:,1:])\n",
    "\n",
    "#---------------------------------------------------\n"
   ]
  },
  {
   "cell_type": "markdown",
   "metadata": {},
   "source": [
    "# Model Selection and Hyperparameters tuning\n",
    "An initial broad grid search is typically performed to explore a wide array of hyperparameter values, aiming to pinpoint the most promising regions within the parameter space. Once these regions are identified, a subsequent, more detailed grid search is conducted to precisely optimize the hyperparameter settings.\n",
    "\n",
    " 1)  A ***coarse grid search***,  was initially conducted, for the model selection using primarily to determine the optimal hyperparameters for the model architecture.\n",
    " 2) A more ***fine grid search*** was performed to accurately identify the optimal learning hyperparameters.\n",
    "\n",
    "The optimal configurations for final re-training and evaluation on the internal test set are those that achieve the lowest mean MEE during cross-validation on the validation set."
   ]
  },
  {
   "cell_type": "code",
   "execution_count": 10,
   "metadata": {},
   "outputs": [],
   "source": [
    "# Definition of function to estimate the metric MEE(Mean Euclidean Error)\n",
    "def mean_euclidean_error(y_true, y_pred):\n",
    "  euclidean_distance = np.linalg.norm(y_true - y_pred, axis = 1)\n",
    "  mee = np.mean(euclidean_distance)\n",
    "  return mee\n",
    "  "
   ]
  },
  {
   "cell_type": "markdown",
   "metadata": {},
   "source": [
    "### COARSE GRID SEARCH"
   ]
  },
  {
   "cell_type": "code",
   "execution_count": 11,
   "metadata": {},
   "outputs": [],
   "source": [
    "\n",
    "# Define the sizes of the hidden layers\n",
    "hidden_layer_sizes = [10, 50, 100, 150]\n",
    "\n",
    "# Generate all combinations of 1, 2, and 3 hidden layers using Cartesian product\n",
    "hidden_layer_combinations = [(size,) for size in hidden_layer_sizes] + \\\n",
    "                            [(size,size) for size in hidden_layer_sizes] + \\\n",
    "                            [(size,size,size) for size in hidden_layer_sizes]\n",
    "\n",
    "mlp_hyperparam = {\n",
    "    'solver': ['adam'],\n",
    "    'batch_size': [16,64,128],\n",
    "    'early_stopping': [False],\n",
    "    'max_iter': [1],\n",
    "    'learning_rate_init': [0.1,0.01,0.001],\n",
    "    'beta_1': [0.9],\n",
    "    'beta_2' : [0.999],\n",
    "    'activation': ['tanh'],\n",
    "    'alpha' : [0.01,0.001,0.0001],\n",
    "    'hidden_layer_sizes': hidden_layer_combinations,\n",
    "    'n_iter_no_change' : [400]\n",
    "    }"
   ]
  },
  {
   "cell_type": "code",
   "execution_count": 20,
   "metadata": {},
   "outputs": [],
   "source": [
    "# Definition of the model to use for the grid search, the grid search will be done on the architecture parameters using the cross validation on 5 and MEE as scorer\n",
    "\n",
    "trainer = NeuralNetTrainer_cup(\n",
    "    model=MLPRegressor(verbose=False),\n",
    "    param_distributions=mlp_hyperparam,\n",
    "    X_dev=X_TR,\n",
    "    y_dev=Y_TR,\n",
    "    X_test=X_TR,\n",
    "    y_test=Y_TR,\n",
    "    cv_splits=5,\n",
    "    random_state=None\n",
    ")"
   ]
  },
  {
   "cell_type": "code",
   "execution_count": null,
   "metadata": {},
   "outputs": [],
   "source": [
    "result =pd.DataFrame( trainer._search_best_params(search_method='grid'))\n"
   ]
  },
  {
   "cell_type": "code",
   "execution_count": null,
   "metadata": {},
   "outputs": [],
   "source": [
    "result.sort_values(by=['mean_test_score'], ascending=False,inplace=True) \n",
    "result = result[[\"param_\"+ i for i in mlp_hyperparam.keys()]+[\"mean_test_score\",\"std_test_score\"]]\n",
    "print(result)"
   ]
  },
  {
   "cell_type": "markdown",
   "metadata": {},
   "source": [
    "### FINE RANDOM SEARCH"
   ]
  },
  {
   "cell_type": "code",
   "execution_count": 28,
   "metadata": {},
   "outputs": [],
   "source": [
    "# Definition of the hyperparameters to search for the corase grid search\n",
    "\n",
    "mlp_hyperparam = {\n",
    "    'solver': ['adam'],\n",
    "    'batch_size': [16],\n",
    "    'early_stopping': [False],\n",
    "    'max_iter': [10000],\n",
    "    'learning_rate_init': np.linspace(0.00005,0.0004,100),\n",
    "    'beta_1': np.linspace(0.1,0.9,100),\n",
    "    'beta_2' : 1-np.logspace(-3.3,-0.17,300) ,\n",
    "    'activation': ['tanh'],\n",
    "    'alpha' : np.linspace(0.004,0.012,100),\n",
    "    'hidden_layer_sizes': [(150,)],\n",
    "    'n_iter_no_change' : [400]\n",
    "    }"
   ]
  },
  {
   "cell_type": "code",
   "execution_count": 29,
   "metadata": {},
   "outputs": [],
   "source": [
    "# Definition of the model to use for the random search, the random search will be done on the iperparameters using the cross validation on 10 and MEE as scorer\n",
    "\n",
    "trainer = NeuralNetTrainer(\n",
    "    model=MLPRegressor(verbose=False),\n",
    "    param_distributions=mlp_hyperparam,\n",
    "    X_dev=X_TR,\n",
    "    y_dev=Y_TR,\n",
    "    X_test=X_TR,\n",
    "    y_test=Y_TR,\n",
    "    cv_splits=5,\n",
    "    random_state=None\n",
    ")"
   ]
  },
  {
   "cell_type": "code",
   "execution_count": null,
   "metadata": {},
   "outputs": [],
   "source": [
    "result = trainer._search_best_params(search_method='random',n_iter = 100)"
   ]
  },
  {
   "cell_type": "code",
   "execution_count": null,
   "metadata": {},
   "outputs": [],
   "source": [
    "result.sort_values(by=['mean_test_score'], ascending=False,inplace=True) \n",
    "result = result[[\"param_\"+ i for i in mlp_hyperparam.keys()]+[\"mean_test_score\",\"std_test_score\"]]\n",
    "print(result)"
   ]
  },
  {
   "cell_type": "markdown",
   "metadata": {},
   "source": [
    "## Model assessment\n",
    "After identifying the optimal hyperparameter configuration using the two different grid searches, we proceed with training our model on the training/validation set. This approach allows us to fully utilize all available training/validation data. Early stopping is applied based on the training Mean Euclidean Error (MEE). At the end the model's learning curves are plotted and the model saved\n"
   ]
  },
  {
   "cell_type": "markdown",
   "metadata": {},
   "source": [
    "#### Training best model"
   ]
  },
  {
   "cell_type": "code",
   "execution_count": 7,
   "metadata": {},
   "outputs": [],
   "source": [
    "mlp_hyperparam = {\n",
    "    'solver': 'adam',\n",
    "    'batch_size': 16,\n",
    "    'early_stopping': False,\n",
    "    'max_iter': 10000,\n",
    "    'learning_rate_init': 0.000121,\n",
    "    'beta_1': 0.875758 ,\n",
    "    'beta_2' :0.983082,\n",
    "    'activation': 'tanh',\n",
    "    'alpha' : 0.008768,\n",
    "    'hidden_layer_sizes': (150,),\n",
    "    'n_iter_no_change' : 400\n",
    "    }\n"
   ]
  },
  {
   "cell_type": "markdown",
   "metadata": {},
   "source": [
    "#### Learning curve\n"
   ]
  },
  {
   "cell_type": "code",
   "execution_count": null,
   "metadata": {},
   "outputs": [],
   "source": [
    "mlp  = MLPRegressor(**mlp_hyperparam)\n",
    "epochs = 1000\n",
    "train_loss_list = []\n",
    "test_loss_list = []\n",
    "\n",
    "for epoch in range(epochs):\n",
    "    mlp.partial_fit(X_TR, Y_TR)  # Addestra il modello\n",
    "\n",
    "    y_train_pred = mlp.predict(X_TR)  \n",
    "    y_test_pred = mlp.predict(X_TS)   \n",
    "    \n",
    "    train_loss = MEE(Y_TR, y_train_pred)  \n",
    "    test_loss = MEE(Y_TS, y_test_pred)    # Calcola l'errore di test\n",
    "    \n",
    "    train_loss_list.append(train_loss)  # Memorizza l'errore di addestramento\n",
    "    test_loss_list.append(test_loss)    # Memorizza l'errore di test\n",
    "\n",
    "plt.figure(figsize=(14, 6))\n",
    "\n",
    "plt.subplot(1, 2, 1)\n",
    "plt.plot(range(epochs), train_loss_list, label='Training Error', linestyle=':')\n",
    "plt.plot(range(epochs), test_loss_list, label='Test Error')\n",
    "plt.xlabel('Epochs')\n",
    "plt.ylabel('Mean Euclidean Error (MEE)')\n",
    "plt.title('Training and Test Errors over All Epochs')\n",
    "plt.legend()\n",
    "plt.grid(True)\n",
    "\n",
    "# Plot degli errori di addestramento e di test sulle ultime 100 epoche\n",
    "plt.subplot(1, 2, 2)\n",
    "plt.plot(range(epochs-100, epochs), train_loss_list[-100:], label='Training Error', linestyle=':')\n",
    "plt.plot(range(epochs-100, epochs), test_loss_list[-100:], label='Test Error')\n",
    "plt.xlabel('Epochs')\n",
    "plt.ylabel('Mean Euclidean Error (MEE)')\n",
    "plt.title('Training and Test Errors over Last 100 Epochs')\n",
    "plt.legend()\n",
    "plt.grid(True)\n",
    "\n",
    "plt.tight_layout()\n",
    "plt.show()"
   ]
  },
  {
   "cell_type": "markdown",
   "metadata": {},
   "source": [
    "#### Managing Performance Oscillations in Model Training\n",
    "During neural network training, performance oscillations can occur due to the stochastic nature of optimization. To avoid selecting a model based on temporary performance spikes, an additional training phase over 100 epochs is implemented. In this phase, predictions on both training and test datasets are made, and the training loss is calculated and recorded for each epoch. By evaluating the performance over these 100 epochs, the model with the minimum training loss is identified. This approach ensures the final model is chosen based on consistent performance, reducing the risk of relying on random fluctuations. This stabilizes the model selection process, ensuring reliability and robustness."
   ]
  },
  {
   "cell_type": "code",
   "execution_count": 33,
   "metadata": {},
   "outputs": [],
   "source": [
    "\n",
    "def train(X_TR, Y_TR, X_TS, mlp_hyperparam, epoche):\n",
    "    \"\"\"\n",
    "    Trains an MLP regressor with the given hyperparameters and returns the best predictions.\n",
    "    \n",
    "    Parameters:\n",
    "    X_TR (array-like): Training data features\n",
    "    Y_TR (array-like): Training data targets\n",
    "    X_TS (array-like): Test data features\n",
    "    mlp_hyperparam (dict): Dictionary of hyperparameters for the MLPRegressor\n",
    "    epoche (int): Number of epochs for training\n",
    "    \n",
    "    Returns:\n",
    "    tuple: Best predictions for the training data and test data\n",
    "    \"\"\"\n",
    "    # Initialize the MLP regressor with the provided hyperparameters\n",
    "    mlp = MLPRegressor(**mlp_hyperparam)\n",
    "    \n",
    "    # Initial training with the specified number of epochs\n",
    "    epochs = epoche\n",
    "    for epoch in range(epochs):\n",
    "        mlp.partial_fit(X_TR, Y_TR)\n",
    "    \n",
    "    # Now we will train for 100 more epochs and track the performance\n",
    "    epochs = 100\n",
    "    train_loss_list = []\n",
    "    y_train_list = []\n",
    "    y_test_list = []\n",
    "\n",
    "    for epoch in range(epochs):\n",
    "        mlp.partial_fit(X_TR, Y_TR)  # Continue training\n",
    "        y_test_pred = mlp.predict(X_TS)  # Predict on test data\n",
    "        y_train_pred = mlp.predict(X_TR)  # Predict on training data\n",
    "\n",
    "        # Calculate training loss using the MEE function\n",
    "        train_loss = MEE(Y_TR, y_train_pred)\n",
    "        train_loss_list.append(train_loss)  # Store the training loss\n",
    "        y_train_list.append(y_train_pred)  # Store the training predictions\n",
    "        y_test_list.append(y_test_pred)  # Store the test predictions\n",
    "    \n",
    "    # Find the index of the minimum training loss\n",
    "    indice = np.argmin(train_loss_list)\n",
    "    \n",
    "    #Return the predictions corresponding to the minim\n",
    "    return y_train_list[indice], y_test_list[indice]\n"
   ]
  },
  {
   "cell_type": "markdown",
   "metadata": {},
   "source": [
    "#### AVERAGE OF PREDICTIONS"
   ]
  },
  {
   "cell_type": "markdown",
   "metadata": {},
   "source": [
    "In this section, we conduct 5 trials of training and prediction with a neural network model. To ensure robustness, we select the best-performing model between two trained models per trial to avoid local minima. Finally, we compute the average predictions across trials for both training and test datasets, providing more stable results."
   ]
  },
  {
   "cell_type": "code",
   "execution_count": 34,
   "metadata": {},
   "outputs": [],
   "source": [
    "# Initializing an array to store the average predictions\n",
    "# for each example in the test set\n",
    "y_pred_mean = np.zeros((X_TS.shape[0], 3))\n",
    "\n",
    "# Initializing an array to store the average predictions\n",
    "# for each example in the training set\n",
    "y_pred_train_mean = np.zeros((X_TR.shape[0], 3))\n",
    "\n",
    "for i in range(5):\n",
    "    # Training the model and obtaining predictions\n",
    "    y_train_pred, y_test_pred = train(X_TR, Y_TR, X_TS, mlp_hyperparam, epoche=10000)\n",
    "    y_train_pred_2, y_test_pred_2 = train(X_TR, Y_TR, X_TS, mlp_hyperparam, epoche=10000)\n",
    "    \n",
    "    # Comparing the training losses of the two trained models\n",
    "    # and selecting the model with the lower loss\n",
    "    if MEE(Y_TR, y_train_pred_2) < MEE(Y_TR, y_train_pred):\n",
    "        y_train_pred = y_train_pred_2\n",
    "        y_test_pred = y_test_pred_2\n",
    "    \n",
    "    # Adding the predictions of the current model to the array of average predictions\n",
    "    y_pred_mean += y_test_pred\n",
    "    y_pred_train_mean += y_train_pred\n",
    "\n",
    "# Calculating the mean of the obtained average predictions\n",
    "y_pred_mean /= 5\n",
    "y_pred_train_mean /= 5\n",
    "\n",
    "# Saving the average predictions to CSV files\n",
    "np.savetxt(\"y_pred_test_VL_scikit.csv\", y_pred_mean, delimiter=\",\")\n",
    "np.savetxt(\"y_pred_train_VL_scikit.csv\", y_pred_train_mean, delimiter=\",\")"
   ]
  },
  {
   "cell_type": "markdown",
   "metadata": {},
   "source": [
    "## MODEL PREDICTION ON "
   ]
  },
  {
   "cell_type": "code",
   "execution_count": null,
   "metadata": {},
   "outputs": [],
   "source": [
    "df=pd.read_csv(\"ML-CUP23-TR.csv\",comment=\"#\")\n",
    "y=df.iloc[:,-3:]\n",
    "x=df.iloc[:,1:-3]\n",
    "\n",
    "x_train, x_test, y_train, y_test = train_test_split(x, y, test_size=0.1, random_state=0)\n",
    "x_train, x_test, y_train, y_test = train_test_split(x_train, y_train, test_size=0.111, random_state=0)\n",
    "print(len(x_train))\n",
    "\n",
    "x_train=x_train.values\n",
    "x_test=x_test.values\n",
    "Y_TR=y_train.values\n",
    "Y_TS=y_test.values\n",
    "\n",
    "\n",
    "from sklearn.preprocessing import PolynomialFeatures\n",
    "from sklearn import preprocessing\n",
    "#-----------------------------------------\n",
    "#---- DATA PREPROCESSING AND SPLIT TRAINING TEST\n",
    "tin = time.time()\n",
    "poly = PolynomialFeatures(2)\n",
    "X_TR_poly = poly.fit_transform(x_train)\n",
    "X_TS_poly = poly.transform(x_test)\n",
    "\n",
    "\n",
    "X_TR=np.arctanh(X_TR_poly[:,1:])\n",
    "X_TS=np.arctanh(X_TS_poly[:,1:])\n",
    "\n",
    "#---------------------------------------------------"
   ]
  }
 ],
 "metadata": {
  "kernelspec": {
   "display_name": "Python 3",
   "language": "python",
   "name": "python3"
  },
  "language_info": {
   "codemirror_mode": {
    "name": "ipython",
    "version": 3
   },
   "file_extension": ".py",
   "mimetype": "text/x-python",
   "name": "python",
   "nbconvert_exporter": "python",
   "pygments_lexer": "ipython3",
   "version": "3.12.3"
  }
 },
 "nbformat": 4,
 "nbformat_minor": 2
}
