{
 "cells": [
  {
   "cell_type": "markdown",
   "metadata": {},
   "source": [
    "# Import Files and Libraries"
   ]
  },
  {
   "cell_type": "code",
   "execution_count": 1,
   "metadata": {},
   "outputs": [],
   "source": [
    "import pandas as pd\n",
    "import numpy as np\n",
    "import seaborn as sns\n",
    "import os\n",
    "import sys\n",
    "\n",
    "import tensorflow as tf\n",
    "from tensorflow import keras\n",
    "from tensorflow.keras.models import Sequential\n",
    "from tensorflow.keras.layers import Activation, Dense, Input\n",
    "from tensorflow.keras.optimizers import  SGD\n",
    "\n",
    "from sklearn.model_selection import train_test_split\n",
    "from sklearn.model_selection import GridSearchCV, RandomizedSearchCV\n",
    "from sklearn.preprocessing import StandardScaler, PolynomialFeatures\n",
    "from sklearn.model_selection import RepeatedKFold, KFold\n",
    "from keras.models import Sequential\n",
    "from keras.layers import Dense, Input\n",
    "from tensorflow.keras.initializers import  GlorotUniform, Constant, Zeros, GlorotNormal\n",
    "from scikeras.wrappers import KerasClassifier, KerasRegressor\n",
    "from tensorflow.keras.regularizers import l2\n",
    "from sklearn.metrics import make_scorer\n",
    "from tensorflow.keras.callbacks import EarlyStopping\n",
    "from matplotlib import pyplot as plt\n",
    "\n",
    "from sklearn.datasets import make_classification\n",
    "\n",
    "\n",
    "dir_path = os.getcwd().split(os.path.sep)\n",
    "root_index = dir_path.index('Machine_Learning_project')\n",
    "root_path = os.path.sep.join(dir_path[:root_index + 1])\n",
    "sys.path.append(root_path + '/code/data_loaders')\n",
    "\n"
   ]
  },
  {
   "cell_type": "code",
   "execution_count": 2,
   "metadata": {},
   "outputs": [],
   "source": [
    "from data_cup import *"
   ]
  },
  {
   "cell_type": "code",
   "execution_count": 3,
   "metadata": {},
   "outputs": [],
   "source": [
    "cup = CupDataset('Cup_tr')\n",
    "df = cup.data\n",
    "\n",
    "y=df.iloc[:,-3:]\n",
    "x=df.iloc[:,:-3]\n",
    "\n",
    "\n",
    "x.drop(['id'], axis=1, inplace=True)\n",
    "\n"
   ]
  },
  {
   "cell_type": "markdown",
   "metadata": {},
   "source": [
    "# Data analysis and visualization"
   ]
  },
  {
   "cell_type": "code",
   "execution_count": null,
   "metadata": {},
   "outputs": [],
   "source": [
    "X_values=x.values\n",
    "\n",
    "y_values=y.values\n",
    "\n",
    "\n",
    "print(str(len(X_values))+ \" number of samples in input.\")\n",
    "print(str(len(y_values[0]))+ \" numbers of target variables\")\n"
   ]
  },
  {
   "cell_type": "markdown",
   "metadata": {},
   "source": [
    " #### Histograms of the frequencies of the input variables are displayed"
   ]
  },
  {
   "cell_type": "code",
   "execution_count": null,
   "metadata": {},
   "outputs": [],
   "source": [
    "import matplotlib.pyplot as plt\n",
    "\n",
    "# Conta il numero di feature presenti in X_values\n",
    "num_features = X_values.shape[1]\n",
    "\n",
    "# Calcola il numero di righe e colonne necessarie per i subplot\n",
    "num_rows = (num_features + 3) // 4\n",
    "num_cols = min(num_features, 4)\n",
    "\n",
    "fig, axs = plt.subplots(num_rows, num_cols, figsize=(16, 12))\n",
    "fig.subplots_adjust(top=0.9, hspace=0.4)  # Aggiunge spazio sopra i subplot e tra le righe\n",
    "n_bins = 20  # Numero di bin per gli istogrammi\n",
    "\n",
    "for i in range(num_features):\n",
    "    row = i // 4\n",
    "    col = i % 4\n",
    "    x = X_values[:, i]\n",
    "    axs[row, col].hist(x, bins=n_bins, density=True, edgecolor='black', alpha=0.7)\n",
    "    axs[row, col].set_title(f\"Feature {i}\", fontsize=12)\n",
    "    axs[row, col].set_xlabel(\"Value\", fontsize=10)\n",
    "    axs[row, col].set_ylabel(\"Density\", fontsize=10)\n",
    "    axs[row, col].tick_params(labelsize=8)\n",
    "    axs[row, col].grid(True, linestyle='--', alpha=0.7)\n",
    "\n",
    "\n",
    "for i in range(num_features, num_rows * num_cols):\n",
    "    row = i // 4\n",
    "    col = i % 4\n",
    "    fig.delaxes(axs[row, col])\n",
    "\n",
    "plt.suptitle(\"Distribution of Features\", fontsize=16, y=0.98)  \n",
    "plt.tight_layout(rect=[0, 0, 1, 1])  \n",
    "plt.show()\n"
   ]
  },
  {
   "cell_type": "markdown",
   "metadata": {},
   "source": [
    "##### The input features are in the range of -1 to 1, with peaks near the extremes of the range. Our intuition is that a nonlinear transformation such as the  Arc Tangent Hyperbolic (ArcTanh)  , which maps the range of [-1,1] values to [-inf,+inf], could improve the feature distributions.\n",
    "\n"
   ]
  },
  {
   "cell_type": "code",
   "execution_count": null,
   "metadata": {},
   "outputs": [],
   "source": [
    "import matplotlib.pyplot as plt\n",
    "import numpy as np\n",
    "\n",
    "X_transform = np.array(np.arctanh(X_values))\n",
    "\n",
    "fig, axs = plt.subplots(3, 4, figsize=(16, 12), tight_layout=True)\n",
    "fig.subplots_adjust(top=0.9, hspace=0.4)\n",
    "n_bins = 40\n",
    "\n",
    "for i in range(4):\n",
    "    x = X_transform[:, 2*i]\n",
    "    axs[0, i].hist(x, bins=n_bins, density=True, edgecolor='black', alpha=0.7)\n",
    "    axs[0, i].set_title(f\"Feature {2*i}\", fontsize=12)\n",
    "    axs[0, i].set_xlabel(\"Value\", fontsize=10)\n",
    "    axs[0, i].set_ylabel(\"Density\", fontsize=10)\n",
    "    axs[0, i].tick_params(labelsize=8)\n",
    "    axs[0, i].grid(True, linestyle='--', alpha=0.7)\n",
    "\n",
    "    if 2*i+1 < X_transform.shape[1]:\n",
    "        x = X_transform[:, 2*i+1]\n",
    "        axs[1, i].hist(x, bins=n_bins, density=True, edgecolor='black', alpha=0.7)\n",
    "        axs[1, i].set_title(f\"Feature {2*i+1}\", fontsize=12)\n",
    "        axs[1, i].set_xlabel(\"Value\", fontsize=10)\n",
    "        axs[1, i].set_ylabel(\"Density\", fontsize=10)\n",
    "        axs[1, i].tick_params(labelsize=8)\n",
    "        axs[1, i].grid(True, linestyle='--', alpha=0.7)\n",
    "\n",
    "for i in range(8, X_transform.shape[1]):\n",
    "    x = X_transform[:, i]\n",
    "    axs[2, i-8].hist(x, bins=n_bins, density=True, edgecolor='black', alpha=0.7)\n",
    "    axs[2, i-8].set_title(f\"Feature {i}\", fontsize=12)\n",
    "    axs[2, i-8].set_xlabel(\"Value\", fontsize=10)\n",
    "    axs[2, i-8].set_ylabel(\"Density\", fontsize=10)\n",
    "    axs[2, i-8].tick_params(labelsize=8)\n",
    "    axs[2, i-8].grid(True, linestyle='--', alpha=0.7)\n",
    "\n",
    "min_ylim = min(ax.get_ylim()[0] for ax in axs.flat)\n",
    "max_ylim = max(ax.get_ylim()[1] for ax in axs.flat)\n",
    "for ax in axs.flat:\n",
    "    ax.set_ylim(min_ylim, max_ylim)\n",
    "\n",
    "for i in range(X_transform.shape[1], 12):\n",
    "    fig.delaxes(axs[2, i-8])\n",
    "\n",
    "plt.suptitle(\"Distribution of Transformed Features\", fontsize=16, y=0.98)\n",
    "plt.tight_layout(rect=[0, 0, 1, 0.96])\n",
    "plt.show()\n"
   ]
  },
  {
   "cell_type": "markdown",
   "metadata": {},
   "source": [
    "Graphical representation of transformed variables with the PolynomialFeatures of raw data "
   ]
  },
  {
   "cell_type": "code",
   "execution_count": null,
   "metadata": {},
   "outputs": [],
   "source": [
    "poly = PolynomialFeatures(degree=2, include_bias=False)\n",
    "X_train_poly = poly.fit_transform(X_values)[:, 1:]\n",
    "\n",
    "\n",
    "n_features = X_train_poly.shape[1]\n",
    "\n",
    "\n",
    "n_rows = (n_features + 3) // 4\n",
    "n_cols = min(n_features, 4)\n",
    "\n",
    "\n",
    "fig, axs = plt.subplots(n_rows, n_cols, figsize=(16, 4*n_rows), tight_layout=True)\n",
    "fig.subplots_adjust(top=0.95, hspace=0.4)\n",
    "n_bins = 40\n",
    "\n",
    "\n",
    "for i in range(n_features):\n",
    "    row = i // 4\n",
    "    col = i % 4\n",
    "    axs[row, col].hist(X_train_poly[:, i], bins=n_bins, density=True, edgecolor='black', alpha=0.7)\n",
    "    axs[row, col].set_title(f\"Feature {i+1}\", fontsize=12)\n",
    "    axs[row, col].set_xlabel(\"Value\", fontsize=10)\n",
    "    axs[row, col].set_ylabel(\"Density\", fontsize=10)\n",
    "    axs[row, col].tick_params(labelsize=8)\n",
    "    axs[row, col].grid(True, linestyle='--', alpha=0.7)\n",
    "\n",
    "\n",
    "for i in range(n_features, n_rows * n_cols):\n",
    "    row = i // 4\n",
    "    col = i % 4\n",
    "    fig.delaxes(axs[row, col])\n",
    "\n",
    "\n",
    "min_ylim = min(ax.get_ylim()[0] for ax in axs.flat)\n",
    "max_ylim = max(ax.get_ylim()[1] for ax in axs.flat)\n",
    "for ax in axs.flat:\n",
    "    ax.set_ylim(min_ylim, max_ylim)\n",
    "\n",
    "\n",
    "plt.suptitle(\"Distribution of Polynomial Features\", fontsize=16, y=1)\n",
    "\n",
    "\n",
    "plt.show()\n"
   ]
  },
  {
   "cell_type": "markdown",
   "metadata": {},
   "source": [
    "The feature distributions after the PolynomialFeature(PF) transformation show a concentration of frequencies at the limits between -1 and 1. This behavior is attributable to the nature of the original features. The PF transformation generates new features by combining the original ones in polynomial terms, maintaining the distributional characteristics of the initial data."
   ]
  },
  {
   "cell_type": "markdown",
   "metadata": {},
   "source": [
    "Finally, we graphically represent the results of the polynomial degree and arctanh transformations together to visually compare the effect of each transformation on the data."
   ]
  },
  {
   "cell_type": "code",
   "execution_count": null,
   "metadata": {},
   "outputs": [],
   "source": [
    "import matplotlib.pyplot as plt\n",
    "import numpy as np\n",
    "from sklearn.preprocessing import PolynomialFeatures\n",
    "\n",
    "poly = PolynomialFeatures(degree=2)\n",
    "X_train_poly = np.arctanh(poly.fit_transform(X_values)[:, 1:])\n",
    "\n",
    "\n",
    "n_features = X_train_poly.shape[1]\n",
    "\n",
    "\n",
    "n_rows = (n_features + 3) // 4\n",
    "n_cols = min(n_features, 4)\n",
    "\n",
    "\n",
    "fig, axs = plt.subplots(n_rows, n_cols, figsize=(16, 4*n_rows), tight_layout=True)\n",
    "fig.subplots_adjust(top=0.95, hspace=0.4)\n",
    "n_bins = 40\n",
    "\n",
    "\n",
    "for i in range(n_features):\n",
    "    row = i // 4\n",
    "    col = i % 4\n",
    "    axs[row, col].hist(X_train_poly[:, i], bins=n_bins, density=True, edgecolor='black', alpha=0.7)\n",
    "    axs[row, col].set_title(f\"Feature {i+1}\", fontsize=12)\n",
    "    axs[row, col].set_xlabel(\"Value\", fontsize=10)\n",
    "    axs[row, col].set_ylabel(\"Density\", fontsize=10)\n",
    "    axs[row, col].tick_params(labelsize=8)\n",
    "    axs[row, col].grid(True, linestyle='--', alpha=0.7)\n",
    "\n",
    "\n",
    "for i in range(n_features, n_rows * n_cols):\n",
    "    row = i // 4\n",
    "    col = i % 4\n",
    "    fig.delaxes(axs[row, col])\n",
    "\n",
    "\n",
    "min_ylim = min(ax.get_ylim()[0] for ax in axs.flat)\n",
    "max_ylim = max(ax.get_ylim()[1] for ax in axs.flat)\n",
    "for ax in axs.flat:\n",
    "    ax.set_ylim(min_ylim, max_ylim)\n",
    "\n",
    "\n",
    "plt.suptitle(\"Distribution of Polynomial Features\", fontsize=16, y=1)\n",
    "\n",
    "\n",
    "plt.show()\n"
   ]
  },
  {
   "cell_type": "markdown",
   "metadata": {},
   "source": [
    "### Conclusion\n",
    "Analyzing the last graphs, in which we applied the PolynomialFeatures transformation in combination with the Hyperbolic Arc Tangent (arctanh) transformation, some significant effects on the distribution of the variables can be observed.\n",
    "\n",
    "In particular, the joint application of these two transformations resulted in a more effective mitigation of the high frequencies present at the extremes of the interval, compared with the use of the PolynomialFeatures transformation alone. This result suggests that the combination of the two transformations has a positive impact on the normalization of the distribution of the variables."
   ]
  }
 ],
 "metadata": {
  "kernelspec": {
   "display_name": "Python 3",
   "language": "python",
   "name": "python3"
  },
  "language_info": {
   "codemirror_mode": {
    "name": "ipython",
    "version": 3
   },
   "file_extension": ".py",
   "mimetype": "text/x-python",
   "name": "python",
   "nbconvert_exporter": "python",
   "pygments_lexer": "ipython3",
   "version": "3.12.3"
  }
 },
 "nbformat": 4,
 "nbformat_minor": 2
}
